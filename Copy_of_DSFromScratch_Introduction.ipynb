{
  "nbformat": 4,
  "nbformat_minor": 0,
  "metadata": {
    "kernelspec": {
      "display_name": "Python 3",
      "language": "python",
      "name": "python3"
    },
    "language_info": {
      "codemirror_mode": {
        "name": "ipython",
        "version": 3
      },
      "file_extension": ".py",
      "mimetype": "text/x-python",
      "name": "python",
      "nbconvert_exporter": "python",
      "pygments_lexer": "ipython3",
      "version": "3.5.2"
    },
    "colab": {
      "name": "Copy of DSFromScratch_Introduction.ipynb",
      "provenance": [],
      "collapsed_sections": [],
      "include_colab_link": true
    }
  },
  "cells": [
    {
      "cell_type": "markdown",
      "metadata": {
        "id": "view-in-github",
        "colab_type": "text"
      },
      "source": [
        "<a href=\"https://colab.research.google.com/github/gizotso/jNoteBooks/blob/master/Copy_of_DSFromScratch_Introduction.ipynb\" target=\"_parent\"><img src=\"https://colab.research.google.com/assets/colab-badge.svg\" alt=\"Open In Colab\"/></a>"
      ]
    },
    {
      "cell_type": "markdown",
      "metadata": {
        "id": "oHFGmMr6lYs3"
      },
      "source": [
        "## FINDING KEY CONNECTORS"
      ]
    },
    {
      "cell_type": "code",
      "metadata": {
        "collapsed": true,
        "id": "MhnyogXTlYtC"
      },
      "source": [
        "users = [\n",
        "    { \"id\": 0, \"name\": \"SuperHero\" },\n",
        "    { \"id\": 1, \"name\": \"Dunn\" },\n",
        "    { \"id\": 2, \"name\": \"Sue\" },\n",
        "    { \"id\": 3, \"name\": \"Chi\" },\n",
        "    { \"id\": 4, \"name\": \"Thor\" },\n",
        "    { \"id\": 5, \"name\": \"Clive\" },\n",
        "    { \"id\": 6, \"name\": \"Hicks\" },\n",
        "    { \"id\": 7, \"name\": \"Devin\" },\n",
        "    { \"id\": 8, \"name\": \"Kate\" },\n",
        "    { \"id\": 9, \"name\": \"Klein\" },\n",
        "    { \"id\": 10, \"name\": \"Jen\" }\n",
        "]\n",
        "friendships = [(0, 1), (0, 2), (1, 2), (1, 3), (2, 3), (3, 4),\n",
        "               (4, 5), (5, 6), (5, 7), (6, 8), (7, 8), (8, 9)]\n"
      ],
      "execution_count": 4,
      "outputs": []
    },
    {
      "cell_type": "code",
      "metadata": {
        "id": "nKUkmrDjlYtG",
        "colab": {
          "base_uri": "https://localhost:8080/"
        },
        "outputId": "f3f08184-dacd-4f13-ff0e-ae4c1fbf90e2"
      },
      "source": [
        "print(users[0])"
      ],
      "execution_count": 5,
      "outputs": [
        {
          "output_type": "stream",
          "name": "stdout",
          "text": [
            "{'id': 0, 'name': 'SuperHero'}\n"
          ]
        }
      ]
    },
    {
      "cell_type": "code",
      "metadata": {
        "id": "rqaWbxuklYtI",
        "outputId": "751f18bf-4afe-42a9-a46b-18f2126c1bc8"
      },
      "source": [
        "print(users[0:1])"
      ],
      "execution_count": null,
      "outputs": [
        {
          "name": "stdout",
          "output_type": "stream",
          "text": [
            "[{'name': 'Hero', 'id': 0}]\n"
          ]
        }
      ]
    },
    {
      "cell_type": "code",
      "metadata": {
        "id": "EN_kY2gtlYtJ"
      },
      "source": [
        "# first give each user an empty list\n",
        "for user in users:\n",
        "    user[\"friends\"] = []\n",
        "\n",
        "# and then populate the lists with friendships\n",
        "for i, j in friendships:\n",
        "    # this works because users[i] is the user whose id is i\n",
        "    users[i][\"friends\"].append(users[j]) # add i as a friend of j\n",
        "    users[j][\"friends\"].append(users[i]) # add j as a friend of i"
      ],
      "execution_count": null,
      "outputs": []
    },
    {
      "cell_type": "code",
      "metadata": {
        "id": "C0BoGWM2lYtK",
        "outputId": "70c86732-67c2-4b98-eaa5-81d4eedf3c60"
      },
      "source": [
        "print(users[7][\"friends\"])"
      ],
      "execution_count": null,
      "outputs": [
        {
          "name": "stdout",
          "output_type": "stream",
          "text": [
            "[{'name': 'Clive', 'friends': [{'name': 'Thor', 'friends': [{'name': 'Chi', 'friends': [{'name': 'Dunn', 'friends': [{'name': 'Hero', 'friends': [{...}, {'name': 'Sue', 'friends': [{...}, {...}, {...}], 'id': 2}], 'id': 0}, {'name': 'Sue', 'friends': [{'name': 'Hero', 'friends': [{...}, {...}], 'id': 0}, {...}, {...}], 'id': 2}, {...}], 'id': 1}, {'name': 'Sue', 'friends': [{'name': 'Hero', 'friends': [{'name': 'Dunn', 'friends': [{...}, {...}, {...}], 'id': 1}, {...}], 'id': 0}, {'name': 'Dunn', 'friends': [{'name': 'Hero', 'friends': [{...}, {...}], 'id': 0}, {...}, {...}], 'id': 1}, {...}], 'id': 2}, {...}], 'id': 3}, {...}], 'id': 4}, {'name': 'Hicks', 'friends': [{...}, {'name': 'Kate', 'friends': [{...}, {'name': 'Devin', 'friends': [...], 'id': 7}, {'name': 'Klein', 'friends': [{...}], 'id': 9}], 'id': 8}], 'id': 6}, {'name': 'Devin', 'friends': [...], 'id': 7}], 'id': 5}, {'name': 'Kate', 'friends': [{'name': 'Hicks', 'friends': [{'name': 'Clive', 'friends': [{'name': 'Thor', 'friends': [{'name': 'Chi', 'friends': [{'name': 'Dunn', 'friends': [{'name': 'Hero', 'friends': [{...}, {'name': 'Sue', 'friends': [{...}, {...}, {...}], 'id': 2}], 'id': 0}, {'name': 'Sue', 'friends': [{'name': 'Hero', 'friends': [{...}, {...}], 'id': 0}, {...}, {...}], 'id': 2}, {...}], 'id': 1}, {'name': 'Sue', 'friends': [{'name': 'Hero', 'friends': [{'name': 'Dunn', 'friends': [{...}, {...}, {...}], 'id': 1}, {...}], 'id': 0}, {'name': 'Dunn', 'friends': [{'name': 'Hero', 'friends': [{...}, {...}], 'id': 0}, {...}, {...}], 'id': 1}, {...}], 'id': 2}, {...}], 'id': 3}, {...}], 'id': 4}, {...}, {'name': 'Devin', 'friends': [...], 'id': 7}], 'id': 5}, {...}], 'id': 6}, {'name': 'Devin', 'friends': [...], 'id': 7}, {'name': 'Klein', 'friends': [{...}], 'id': 9}], 'id': 8}]\n"
          ]
        }
      ]
    },
    {
      "cell_type": "code",
      "metadata": {
        "collapsed": true,
        "id": "ugBT2zPrlYtM"
      },
      "source": [
        "def number_of_friends(user):\n",
        "    \"\"\"how many friends does _user_ have?\"\"\"\n",
        "    return len(user[\"friends\"]) # length of friend_ids list"
      ],
      "execution_count": null,
      "outputs": []
    },
    {
      "cell_type": "code",
      "metadata": {
        "id": "dF4041vzlYtN",
        "outputId": "c26d18c8-436b-4901-bcf0-1a193c1aed16"
      },
      "source": [
        "print(number_of_friends(users[7]))"
      ],
      "execution_count": null,
      "outputs": [
        {
          "name": "stdout",
          "output_type": "stream",
          "text": [
            "2\n"
          ]
        }
      ]
    },
    {
      "cell_type": "code",
      "metadata": {
        "id": "u1k05e4GlYtO",
        "outputId": "e77ada80-df48-43b7-f29a-5e2a4935f456"
      },
      "source": [
        "total_connections = sum(number_of_friends(user) for user in users) # 24\n",
        "print(\"total_connections=\", total_connections)"
      ],
      "execution_count": null,
      "outputs": [
        {
          "name": "stdout",
          "output_type": "stream",
          "text": [
            "total_connections= 24\n"
          ]
        }
      ]
    },
    {
      "cell_type": "code",
      "metadata": {
        "id": "0jpWTJmOlYtP",
        "outputId": "1e89b44c-ae06-4c92-f28d-a65aba5494eb"
      },
      "source": [
        "num_users = len(users)\n",
        "avg_connections = total_connections / num_users # 2.4\n",
        "print(\"num_users=\", num_users)\n",
        "print(\"avg_connections=\", avg_connections)"
      ],
      "execution_count": null,
      "outputs": [
        {
          "name": "stdout",
          "output_type": "stream",
          "text": [
            "num_users= 11\n",
            "avg_connections= 2.1818181818181817\n"
          ]
        }
      ]
    },
    {
      "cell_type": "code",
      "metadata": {
        "id": "grkwgOQqlYtQ",
        "outputId": "47d354ff-86a9-4fa8-e2ef-71793d1c1e26"
      },
      "source": [
        "# create a list (user_id, number_of_friends)\n",
        "num_friends_by_id = [(user[\"id\"], number_of_friends(user))\n",
        "                     for user in users]\n",
        "    \n",
        "print(\"users sorted by number of friends:\")\n",
        "print(sorted(num_friends_by_id,\n",
        "             key=lambda pair: pair[1],       # by number of friends\n",
        "             reverse=True))                  # largest to smallest  "
      ],
      "execution_count": null,
      "outputs": [
        {
          "name": "stdout",
          "output_type": "stream",
          "text": [
            "users sorted by number of friends:\n",
            "[(1, 3), (2, 3), (3, 3), (5, 3), (8, 3), (0, 2), (4, 2), (6, 2), (7, 2), (9, 1), (10, 0)]\n"
          ]
        }
      ]
    },
    {
      "cell_type": "code",
      "metadata": {
        "collapsed": true,
        "id": "0wlu3-0MlYtR"
      },
      "source": [
        ""
      ],
      "execution_count": null,
      "outputs": []
    },
    {
      "cell_type": "markdown",
      "metadata": {
        "id": "1U6R9p1QlYtS"
      },
      "source": [
        "## DATA SCIENTISTS YOU MAY KNOW\n",
        "\n",
        "FOAF : Friend of a Friend"
      ]
    },
    {
      "cell_type": "code",
      "metadata": {
        "collapsed": true,
        "id": "HpEFmHwSlYtS"
      },
      "source": [
        "def friends_of_friend_ids_bad(user):\n",
        "    # \"foaf\" is short for \"friend of a friend\"\n",
        "    return [foaf[\"id\"]\n",
        "            for friend in user[\"friends\"] # for each of user's friends\n",
        "            for foaf in friend[\"friends\"]] # get each of _their_ friends"
      ],
      "execution_count": null,
      "outputs": []
    },
    {
      "cell_type": "code",
      "metadata": {
        "id": "l96kwERblYtT"
      },
      "source": [
        "def not_the_same(user, other_user):\n",
        "    \"\"\"two users are not the same if they have different ids\"\"\"\n",
        "    return user[\"id\"] != other_user[\"id\"]\n",
        "\n",
        "def not_friends(user, other_user):\n",
        "    \"\"\"other_user is not a friend if he's not in user[\"friends\"];\n",
        "    that is, if he's not_the_same as all the people in user[\"friends\"]\"\"\"\n",
        "    return all(not_the_same(friend, other_user)\n",
        "               for friend in user[\"friends\"])\n"
      ],
      "execution_count": null,
      "outputs": []
    },
    {
      "cell_type": "code",
      "metadata": {
        "id": "fBrtzAaFlYtU",
        "outputId": "cc0760cd-080a-4fef-ae63-432f67b2d6a0"
      },
      "source": [
        "print(not_the_same(users[1], users[2]) )"
      ],
      "execution_count": null,
      "outputs": [
        {
          "name": "stdout",
          "output_type": "stream",
          "text": [
            "True\n"
          ]
        }
      ]
    },
    {
      "cell_type": "code",
      "metadata": {
        "id": "FA22uO-OlYtV",
        "outputId": "d0d56df1-e1be-4d40-b731-fa7a0e3e7cc5"
      },
      "source": [
        "print(not_friends(users[1], users[2]))"
      ],
      "execution_count": null,
      "outputs": [
        {
          "name": "stdout",
          "output_type": "stream",
          "text": [
            "False\n"
          ]
        }
      ]
    },
    {
      "cell_type": "code",
      "metadata": {
        "id": "_OpeLUNalYtW",
        "outputId": "b506713c-2887-41f4-a394-30e5dad5e0cc"
      },
      "source": [
        "from collections import Counter # not loaded by default\n",
        "def friends_of_friend_ids(user):\n",
        "    return Counter(foaf[\"id\"]\n",
        "                   for friend in user[\"friends\"]  # for each of my friends\n",
        "                   for foaf in friend[\"friends\"]  # count *their* friends\n",
        "                   if not_the_same(user, foaf)    # who aren't me\n",
        "                   and not_friends(user, foaf))   # and aren't my friends\n",
        "\n",
        "print(friends_of_friend_ids(users[3])) # Counter({0: 2, 5: 1})"
      ],
      "execution_count": null,
      "outputs": [
        {
          "name": "stdout",
          "output_type": "stream",
          "text": [
            "Counter({0: 2, 5: 1})\n"
          ]
        }
      ]
    },
    {
      "cell_type": "markdown",
      "metadata": {
        "id": "yUrC00YhlYtX"
      },
      "source": [
        "## Interests"
      ]
    },
    {
      "cell_type": "code",
      "metadata": {
        "collapsed": true,
        "id": "8Mtv4vqIlYtX"
      },
      "source": [
        "interests = [\n",
        "    (0, \"Hadoop\"), (0, \"Big Data\"), (0, \"HBase\"), (0, \"Java\"),\n",
        "    (0, \"Spark\"), (0, \"Storm\"), (0, \"Cassandra\"),\n",
        "    (1, \"NoSQL\"), (1, \"MongoDB\"), (1, \"Cassandra\"), (1, \"HBase\"),\n",
        "    (1, \"Postgres\"), (2, \"Python\"), (2, \"scikit-learn\"), (2, \"scipy\"),\n",
        "    (2, \"numpy\"), (2, \"statsmodels\"), (2, \"pandas\"), (3, \"R\"), (3, \"Python\"),\n",
        "    (3, \"statistics\"), (3, \"regression\"), (3, \"probability\"),\n",
        "    (4, \"machine learning\"), (4, \"regression\"), (4, \"decision trees\"),\n",
        "    (4, \"libsvm\"), (5, \"Python\"), (5, \"R\"), (5, \"Java\"), (5, \"C++\"),\n",
        "    (5, \"Haskell\"), (5, \"programming languages\"), (6, \"statistics\"),\n",
        "    (6, \"probability\"), (6, \"mathematics\"), (6, \"theory\"),\n",
        "    (7, \"machine learning\"), (7, \"scikit-learn\"), (7, \"Mahout\"),\n",
        "    (7, \"neural networks\"), (8, \"neural networks\"), (8, \"deep learning\"),\n",
        "    (8, \"Big Data\"), (8, \"artificial intelligence\"), (9, \"Hadoop\"),\n",
        "    (9, \"Java\"), (9, \"MapReduce\"), (9, \"Big Data\")\n",
        "]\n"
      ],
      "execution_count": null,
      "outputs": []
    },
    {
      "cell_type": "code",
      "metadata": {
        "collapsed": true,
        "id": "aQ6PaH61lYtZ"
      },
      "source": [
        "def data_scientists_who_like(target_interest):\n",
        "    return [user_id\n",
        "            for user_id, user_interest in interests\n",
        "            if user_interest == target_interest]"
      ],
      "execution_count": null,
      "outputs": []
    },
    {
      "cell_type": "code",
      "metadata": {
        "id": "uM7tasKslYtZ",
        "outputId": "a5e38111-cf72-406f-c751-ab3bc89a1f03"
      },
      "source": [
        "print( data_scientists_who_like(\"Hadoop\"))"
      ],
      "execution_count": null,
      "outputs": [
        {
          "name": "stdout",
          "output_type": "stream",
          "text": [
            "[0, 9]\n"
          ]
        }
      ]
    },
    {
      "cell_type": "code",
      "metadata": {
        "collapsed": true,
        "id": "wtRbt6lclYta"
      },
      "source": [
        "from collections import defaultdict\n",
        "\n",
        "# keys are interests, values are lists of user_ids with that interest\n",
        "user_ids_by_interest = defaultdict(list)\n",
        "for user_id, interest in interests:\n",
        "    user_ids_by_interest[interest].append(user_id)\n",
        "    \n",
        "# keys are user_ids, values are lists of interests for that user_id\n",
        "interests_by_user_id = defaultdict(list)\n",
        "for user_id, interest in interests:\n",
        "    interests_by_user_id[user_id].append(interest)"
      ],
      "execution_count": null,
      "outputs": []
    },
    {
      "cell_type": "code",
      "metadata": {
        "id": "F9q2Pln3lYtb",
        "outputId": "b7b11843-6185-4d56-a799-45cd559f4c8d"
      },
      "source": [
        "print(user_ids_by_interest[\"Hadoop\"])"
      ],
      "execution_count": null,
      "outputs": [
        {
          "name": "stdout",
          "output_type": "stream",
          "text": [
            "[0, 9]\n"
          ]
        }
      ]
    },
    {
      "cell_type": "code",
      "metadata": {
        "id": "1BacTBfBlYtb",
        "outputId": "40b1a1b2-654d-4657-e892-3dbb879659b4"
      },
      "source": [
        "print(interests_by_user_id[7])"
      ],
      "execution_count": null,
      "outputs": [
        {
          "name": "stdout",
          "output_type": "stream",
          "text": [
            "['machine learning', 'scikit-learn', 'Mahout', 'neural networks']\n"
          ]
        }
      ]
    },
    {
      "cell_type": "code",
      "metadata": {
        "id": "2ylBtYQllYtc",
        "outputId": "ff596358-6f7b-4423-e9fd-3ee77edc1147"
      },
      "source": [
        "def most_common_interests_with(user_id):\n",
        "    return Counter(interested_user_id\n",
        "        for interest in interests_by_user_id[\"user_id\"]\n",
        "        for interested_user_id in user_ids_by_interest[interest]\n",
        "        if interested_user_id != user_id)\n",
        "\n",
        "print(most_common_interests_with(2))"
      ],
      "execution_count": null,
      "outputs": [
        {
          "name": "stdout",
          "output_type": "stream",
          "text": [
            "Counter()\n"
          ]
        }
      ]
    },
    {
      "cell_type": "markdown",
      "metadata": {
        "id": "wMu52F2YlYtd"
      },
      "source": [
        "## Salaries and eXPerience"
      ]
    },
    {
      "cell_type": "code",
      "metadata": {
        "collapsed": true,
        "id": "R2S-wB7plYtd"
      },
      "source": [
        "salaries_and_tenures = [(83000, 8.7), (88000, 8.1),\n",
        "                        (48000, 0.7), (76000, 6),\n",
        "                        (69000, 6.5), (76000, 7.5),\n",
        "                        (60000, 2.5), (83000, 10),\n",
        "                        (48000, 1.9), (63000, 4.2)]\n",
        "\n",
        "def make_chart_salaries_by_tenure():\n",
        "    tenures = [tenure for salary, tenure in salaries_and_tenures]\n",
        "    salaries = [salary for salary, tenure in salaries_and_tenures]\n",
        "    plt.scatter(tenures, salaries)\n",
        "    plt.xlabel(\"Years Experience\")\n",
        "    plt.ylabel(\"Salary\")\n",
        "    plt.show()"
      ],
      "execution_count": null,
      "outputs": []
    },
    {
      "cell_type": "code",
      "metadata": {
        "id": "iLcspE6_lYte",
        "outputId": "b58c9571-3c27-40f8-864a-922970572780"
      },
      "source": [
        "from matplotlib import pyplot as plt\n",
        "make_chart_salaries_by_tenure()"
      ],
      "execution_count": null,
      "outputs": [
        {
          "data": {
            "image/png": "[encoded data removed]",
            "text/plain": [
              "<matplotlib.figure.Figure at 0x7dbe2e8>"
            ]
          },
          "metadata": {},
          "output_type": "display_data"
        }
      ]
    },
    {
      "cell_type": "code",
      "metadata": {
        "id": "Zx9A03QXlYte",
        "outputId": "2e4f2c45-6605-41f4-b001-51b18d2e1ec8"
      },
      "source": [
        "# keys are years\n",
        "# values are the salaries for each tenure\n",
        "salary_by_tenure = defaultdict(list)\n",
        "for salary, tenure in salaries_and_tenures:\n",
        "    salary_by_tenure[tenure].append(salary)\n",
        "print(salary_by_tenure)"
      ],
      "execution_count": null,
      "outputs": [
        {
          "name": "stdout",
          "output_type": "stream",
          "text": [
            "defaultdict(<class 'list'>, {0.7: [48000], 8.1: [88000], 2.5: [60000], 1.9: [48000], 6: [76000], 6.5: [69000], 7.5: [76000], 8.7: [83000], 4.2: [63000], 10: [83000]})\n"
          ]
        }
      ]
    },
    {
      "cell_type": "code",
      "metadata": {
        "id": "7pJk4XDFlYtf",
        "outputId": "a8cc4ba9-bfc1-4dec-d7f7-b6db9e9642bc"
      },
      "source": [
        "average_salary_by_tenure = {tenure : sum(salaries)/len(salaries)\n",
        "                            for tenure, salaries in salary_by_tenure.items()}\n",
        "print(average_salary_by_tenure)"
      ],
      "execution_count": null,
      "outputs": [
        {
          "name": "stdout",
          "output_type": "stream",
          "text": [
            "{0.7: 48000.0, 1.9: 48000.0, 2.5: 60000.0, 4.2: 63000.0, 6.5: 69000.0, 6: 76000.0, 7.5: 76000.0, 8.1: 88000.0, 10: 83000.0, 8.7: 83000.0}\n"
          ]
        }
      ]
    },
    {
      "cell_type": "code",
      "metadata": {
        "collapsed": true,
        "id": "FcZwJTQClYtf"
      },
      "source": [
        "def tenure_bucket(tenure):\n",
        "    if tenure < 2: return \"less than two\"\n",
        "    elif tenure < 5: return \"between two and five\"\n",
        "    else: return \"more than five\"\n",
        "\n",
        "salary_by_tenure_bucket = defaultdict(list)\n",
        "\n",
        "for salary, tenure in salaries_and_tenures:\n",
        "    bucket = tenure_bucket(tenure)\n",
        "    salary_by_tenure_bucket[bucket].append(salary)\n",
        "\n",
        "average_salary_by_bucket = {\n",
        "  tenure_bucket : sum(salaries) / len(salaries)\n",
        "  for tenure_bucket, salaries in salary_by_tenure_bucket.items()\n",
        "}\n"
      ],
      "execution_count": null,
      "outputs": []
    },
    {
      "cell_type": "markdown",
      "metadata": {
        "id": "g6Xl8JJDlYtg"
      },
      "source": [
        "## PAID_ACCOUNTS"
      ]
    },
    {
      "cell_type": "code",
      "metadata": {
        "collapsed": true,
        "id": "1OEaZS2BlYtg"
      },
      "source": [
        "def predict_paid_or_unpaid(years_experience):\n",
        "  if years_experience < 3.0: return \"paid\"\n",
        "  elif years_experience < 8.5: return \"unpaid\"\n",
        "  else: return \"paid\""
      ],
      "execution_count": null,
      "outputs": []
    },
    {
      "cell_type": "markdown",
      "metadata": {
        "id": "ZrBsBxQ6lYtg"
      },
      "source": [
        "## Topics of Interest"
      ]
    },
    {
      "cell_type": "code",
      "metadata": {
        "collapsed": true,
        "id": "wNwWsiUrlYth"
      },
      "source": [
        "words_and_counts = Counter(word\n",
        "                           for user, interest in interests\n",
        "                           for word in interest.lower().split())"
      ],
      "execution_count": null,
      "outputs": []
    }
  ]
}